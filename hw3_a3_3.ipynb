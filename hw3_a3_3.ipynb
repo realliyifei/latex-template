{
  "nbformat": 4,
  "nbformat_minor": 0,
  "metadata": {
    "colab": {
      "name": "hw3_a3.3.ipynb",
      "provenance": [],
      "authorship_tag": "ABX9TyPERWsryI3dEevILN7k0qOz",
      "include_colab_link": true
    },
    "kernelspec": {
      "name": "python3",
      "display_name": "Python 3"
    }
  },
  "cells": [
    {
      "cell_type": "markdown",
      "metadata": {
        "id": "view-in-github",
        "colab_type": "text"
      },
      "source": [
        "<a href=\"https://colab.research.google.com/github/realliyifei/Latex-Template/blob/main/hw3_a3_3.ipynb\" target=\"_parent\"><img src=\"https://colab.research.google.com/assets/colab-badge.svg\" alt=\"Open In Colab\"/></a>"
      ]
    },
    {
      "cell_type": "markdown",
      "metadata": {
        "id": "mt8Q0Wk99p3B"
      },
      "source": [
        "# ESE605 Convex Optimization - hw3 (code parts)"
      ]
    },
    {
      "cell_type": "code",
      "metadata": {
        "id": "ok3rDMO5HDs9"
      },
      "source": [
        "!pip install cvxpy"
      ],
      "execution_count": null,
      "outputs": []
    },
    {
      "cell_type": "code",
      "metadata": {
        "id": "GbFxigyXHUAW"
      },
      "source": [
        "import cvxpy as cp\n",
        "import numpy as np"
      ],
      "execution_count": 2,
      "outputs": []
    },
    {
      "cell_type": "markdown",
      "metadata": {
        "id": "MzvxsL6L7D_1"
      },
      "source": [
        "## Warm-up\n",
        "\n",
        "[link](https://www.cvxpy.org/examples/basic/socp.html)\n"
      ]
    },
    {
      "cell_type": "code",
      "metadata": {
        "colab": {
          "base_uri": "https://localhost:8080/"
        },
        "id": "BeslYLCe7FaK",
        "outputId": "ddd1276a-5abb-4a36-ca2c-86d9c9854548"
      },
      "source": [
        "# Generate a random feasible SOCP.\n",
        "m = 3\n",
        "n = 10\n",
        "p = 5\n",
        "n_i = 5\n",
        "np.random.seed(2)\n",
        "f = np.random.randn(n)\n",
        "A = []\n",
        "b = []\n",
        "c = []\n",
        "d = []\n",
        "x0 = np.random.randn(n)\n",
        "for i in range(m):\n",
        "    A.append(np.random.randn(n_i, n))\n",
        "    b.append(np.random.randn(n_i))\n",
        "    c.append(np.random.randn(n))\n",
        "    d.append(np.linalg.norm(A[i] @ x0 + b, 2) - c[i].T @ x0)\n",
        "F = np.random.randn(p, n)\n",
        "g = F @ x0\n",
        "\n",
        "# Define and solve the CVXPY problem.\n",
        "x = cp.Variable(n)\n",
        "# We use cp.SOC(t, x) to create the SOC constraint ||x||_2 <= t.\n",
        "soc_constraints = [\n",
        "    cp.SOC(c[i].T @ x + d[i], A[i] @ x + b[i]) for i in range(m)\n",
        "]\n",
        "prob = cp.Problem(cp.Minimize(f.T@x),\n",
        "                  soc_constraints + [F @ x == g])\n",
        "prob.solve()\n",
        "\n",
        "# Print result.\n",
        "print(\"The optimal value is\", prob.value)\n",
        "print(\"A solution x is\")\n",
        "print(x.value)\n",
        "for i in range(m):\n",
        "    print(\"SOC constraint %i dual variable solution\" % i)\n",
        "    print(soc_constraints[i].dual_value)"
      ],
      "execution_count": 3,
      "outputs": [
        {
          "output_type": "stream",
          "text": [
            "The optimal value is -9.58269571626638\n",
            "A solution x is\n",
            "[ 1.40303325  2.4194569   1.69146656 -0.26922215  1.30825472 -0.70834842\n",
            "  0.19313706  1.64153496  0.47698583  0.66581033]\n",
            "SOC constraint 0 dual variable solution\n",
            "[ 0.61662526  0.35370661 -0.02327185  0.04253095  0.06243588  0.49886837]\n",
            "SOC constraint 1 dual variable solution\n",
            "[ 0.35283078 -0.14301082  0.16539699 -0.22027817  0.15440264  0.06571645]\n",
            "SOC constraint 2 dual variable solution\n",
            "[ 0.86510445 -0.114638   -0.449291    0.37810251 -0.6144058  -0.11377797]\n"
          ],
          "name": "stdout"
        }
      ]
    },
    {
      "cell_type": "markdown",
      "metadata": {
        "id": "3mXn2U1b7mmu"
      },
      "source": [
        "## CVXBook Extra Exercises 3.3\n",
        "\n",
        "Each of the following CVX code fragments describes a convex constraint on the scalar variables x, y, and z, but violates the CVX rule set, and so is invalid. Brieﬂy explain why each fragment is invalid. Then, rewrite each one in an equivalent form that conforms to the CVX rule set. In your reformulations, you can use linear equality and inequality constraints, and inequalities constructed using CVX functions. You can also introduce additional variables, or use LMIs. Be sure to explain (brieﬂy) why your reformulation is equivalent to the original constraint, if it is not obvious.\n",
        "\n",
        "Check your reformulations by creating a small problem that includes these constraints, and solving it using CVX. Your test problem doesn’t have to be feasible; it’s enough to verify that CVX processes your constraints without error.\n",
        "\n",
        "### Ref\n",
        "\n",
        "* [The DCP ruleset — CVX Users' Guide](http://web.cvxr.com/cvx/doc/dcp.html#)"
      ]
    },
    {
      "cell_type": "code",
      "metadata": {
        "id": "Gd4qlCE5hS9U"
      },
      "source": [
        "# Helper: solve and print\n",
        "def solve_and_print(obj, constraints):\n",
        "    prob = cp.Problem(obj, constraints) # Form problem\n",
        "    prob.solve()  # Solve problem and return optima\n",
        "    print(\"status:\", prob.status)\n",
        "    print(\"optimal value:\", prob.value)\n",
        "    print(\"optimal var:\", x.value, y.value)"
      ],
      "execution_count": 12,
      "outputs": []
    },
    {
      "cell_type": "markdown",
      "metadata": {
        "id": "V0hbQVdtHjBx"
      },
      "source": [
        "(a) $norm([x + 2*y, x - y]) == 0$\n",
        "\n",
        "Invalid because for equality constraint, both side should be affine, while here LHS is not. We here try to let (x,y) be zero"
      ]
    },
    {
      "cell_type": "code",
      "metadata": {
        "colab": {
          "base_uri": "https://localhost:8080/"
        },
        "id": "1TIGksKMpRHJ",
        "outputId": "0dfc0c26-b55b-4fd6-ed3d-b623268d4dea"
      },
      "source": [
        "x, y = cp.Variable(), cp.Variable() # Initialize\n",
        "constraints = [x - y == 0] # Constraints\n",
        "obj = cp.Minimize((x - y + 2)**2) # Objective function\n",
        "solve_and_print(obj, constraints) # Solve and print"
      ],
      "execution_count": 33,
      "outputs": [
        {
          "output_type": "stream",
          "text": [
            "status: optimal\n",
            "optimal value: 4.0\n",
            "optimal var: 8.840090183351419e-11 8.840090183351419e-11\n"
          ],
          "name": "stdout"
        }
      ]
    },
    {
      "cell_type": "markdown",
      "metadata": {
        "id": "1MNKSRR397yJ"
      },
      "source": [
        "(b) $square(square(x + y)) <= x - y$\n",
        "\n",
        "Invalid because square function is neither noodecreasing or nonincreasing then it should be affine. Here we try to let it be affine inside.\n",
        "\n",
        "![image.png](data:image/png;base64,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)"
      ]
    },
    {
      "cell_type": "code",
      "metadata": {
        "colab": {
          "base_uri": "https://localhost:8080/"
        },
        "id": "bB2CwDYo9-7E",
        "outputId": "4693df60-7777-4486-ad41-bfb75956a7f7"
      },
      "source": [
        "x, y = cp.Variable(), cp.Variable() \n",
        "constraints = [(x + y) ** 4 <= x - y]\n",
        "obj = cp.Minimize((x - y + 2)**2)\n",
        "solve_and_print(obj, constraints)"
      ],
      "execution_count": 17,
      "outputs": [
        {
          "output_type": "stream",
          "text": [
            "status: optimal\n",
            "optimal value: 3.9999998921764797\n",
            "optimal var: -6.20074789185704e-09 6.200747891855019e-09\n"
          ],
          "name": "stdout"
        }
      ]
    },
    {
      "cell_type": "markdown",
      "metadata": {
        "id": "vOT7mKR7i_j7"
      },
      "source": [
        "(c) $1/x + 1/y <= 1; x >= 0; y >= 0$\n",
        "\n",
        "Invalid because a valid call to a function here should be convex while $1/x$ isn't. Here we try to replace it equivalently with a convex function."
      ]
    },
    {
      "cell_type": "code",
      "metadata": {
        "colab": {
          "base_uri": "https://localhost:8080/"
        },
        "id": "JEUn-Gc8i0wj",
        "outputId": "386554df-cccf-46c2-93c7-428a99a3cbf4"
      },
      "source": [
        "x, y = cp.Variable(), cp.Variable() \n",
        "constraints = [cp.inv_pos(x) + cp.inv_pos(y) <= 1]\n",
        "obj = cp.Minimize((x - y + 2)**2)\n",
        "solve_and_print(obj, constraints)"
      ],
      "execution_count": 18,
      "outputs": [
        {
          "output_type": "stream",
          "text": [
            "status: optimal\n",
            "optimal value: -1.8639133848843673e-10\n",
            "optimal var: 3.4855490882933275 5.485548349915387\n"
          ],
          "name": "stdout"
        }
      ]
    },
    {
      "cell_type": "markdown",
      "metadata": {
        "id": "jYhzwIzFi-Ym"
      },
      "source": [
        "(d) $norm([max(x,1), max(y,2)]) <= 3*x + y$\n",
        "\n",
        "Invalid because norm function is convex yet neither nondecreasing nor nonincreasing and therefore it should accept affine function. Here we try to introduce new variables to get access to the maximum without violating this rule."
      ]
    },
    {
      "cell_type": "code",
      "metadata": {
        "colab": {
          "base_uri": "https://localhost:8080/"
        },
        "id": "TPs0qQh7sg6b",
        "outputId": "ba174513-c2b8-48be-973b-feda0ea8e37b"
      },
      "source": [
        "x, y = cp.Variable(), cp.Variable() \n",
        "z = cp.Variable(2) # two new variables\n",
        "z1, z2 = cp.Variable(), cp.Variable() \n",
        "constraints = [cp.norm(z) <= 3 * x + y,\n",
        "               z[0] >= cp.maximum(x, 1), \n",
        "               z[1] >= cp.maximum(y, 2)]\n",
        "obj = cp.Minimize((x - y + 2)**2)\n",
        "solve_and_print(obj, constraints)"
      ],
      "execution_count": 42,
      "outputs": [
        {
          "output_type": "stream",
          "text": [
            "status: optimal\n",
            "optimal value: -2.6952363848775156e-10\n",
            "optimal var: 1.536021428597174 3.536026130153923\n"
          ],
          "name": "stdout"
        }
      ]
    },
    {
      "cell_type": "markdown",
      "metadata": {
        "id": "YwfU9wpXjILl"
      },
      "source": [
        "(e) $x*y >= 1; x >= 0; y >= 0$\n",
        "\n",
        "Invalid because $x*y$ is neither convex nor concave. Here we try to move $y$ from LHS to RHS to avoid this function construction."
      ]
    },
    {
      "cell_type": "code",
      "metadata": {
        "colab": {
          "base_uri": "https://localhost:8080/"
        },
        "id": "hSVXwuB8jKrh",
        "outputId": "f70df6b6-0e3e-4ca7-8d35-a0fc486baca4"
      },
      "source": [
        "x, y = cp.Variable(), cp.Variable() \n",
        "constraints = [x >= cp.inv_pos(y), x >= 0, y >= 0]\n",
        "obj = cp.Minimize((x - y + 2)**2)\n",
        "solve_and_print(obj, constraints)"
      ],
      "execution_count": 23,
      "outputs": [
        {
          "output_type": "stream",
          "text": [
            "status: optimal\n",
            "optimal value: 6.483921143371596e-12\n",
            "optimal var: 1.813243728454946 3.813243505987337\n"
          ],
          "name": "stdout"
        }
      ]
    },
    {
      "cell_type": "markdown",
      "metadata": {
        "id": "RZiDwKefjLKm"
      },
      "source": [
        "(f) $(x + y)^2/sqrt(y) <= x - y + 5$\n",
        "\n",
        "Invalid because a division between convex and concave function is unacceptable (?)"
      ]
    },
    {
      "cell_type": "code",
      "metadata": {
        "colab": {
          "base_uri": "https://localhost:8080/"
        },
        "id": "xqeg6kcIjOHd",
        "outputId": "e2f44cf7-aee7-484f-dc4a-23dbc023745d"
      },
      "source": [
        "x, y = cp.Variable(), cp.Variable() \n",
        "constraints = [cp.quad_over_lin(x + y, cp.sqrt(y)) <= x - y + 5, \n",
        "               y >= 0, x >= y - 5]\n",
        "obj = cp.Minimize((x - y + 2)**2)\n",
        "solve_and_print(obj, constraints)"
      ],
      "execution_count": 25,
      "outputs": [
        {
          "output_type": "stream",
          "text": [
            "status: optimal\n",
            "optimal value: 3.5463258630455323e-11\n",
            "optimal var: -1.0220708215172787 0.9779288503062095\n"
          ],
          "name": "stdout"
        }
      ]
    },
    {
      "cell_type": "markdown",
      "metadata": {
        "id": "81YBAqgFjOpj"
      },
      "source": [
        "(g) $x^3 + y^3 <= 1; x >= 0; y >= 0$\n",
        "\n",
        "Invalid because $x^3$ is not convex on the LHS of coordiation. Here we try to rewrite the function to make it convex."
      ]
    },
    {
      "cell_type": "code",
      "metadata": {
        "colab": {
          "base_uri": "https://localhost:8080/"
        },
        "id": "u2gA09nWjRcB",
        "outputId": "ea1e53e9-a7f8-4e44-86c5-b3f414f80e3b"
      },
      "source": [
        "x, y = cp.Variable(), cp.Variable() \n",
        "constraints = [cp.pos(x) ** 3 + cp.pos(y) ** 3 <= 1, \n",
        "               x >= 0, y >= 0]\n",
        "obj = cp.Minimize((x - y + 2)**2)\n",
        "solve_and_print(obj, constraints)"
      ],
      "execution_count": 26,
      "outputs": [
        {
          "output_type": "stream",
          "text": [
            "status: optimal\n",
            "optimal value: 0.9999999966406441\n",
            "optimal var: -7.308453388112953e-11 1.0000000009796675\n"
          ],
          "name": "stdout"
        }
      ]
    },
    {
      "cell_type": "markdown",
      "metadata": {
        "id": "WjUWj7xvjR48"
      },
      "source": [
        "(h) $x + z <= 1 + sqrt(x*y - z^2); x >= 0; y >= 0$"
      ]
    },
    {
      "cell_type": "code",
      "metadata": {
        "colab": {
          "base_uri": "https://localhost:8080/",
          "height": 340
        },
        "id": "tYoLQOQPjUIL",
        "outputId": "24641145-3240-4489-ae1e-35374f85d229"
      },
      "source": [
        "def quad_over_lin(X, y):\n",
        "    t = cp.Variable()\n",
        "    expr = cp.vstack([2*X, y[None,:]-t])\n",
        "    constr = cp.SOC(y-t, expr, axis=0)\n",
        "    return t, constr\n",
        "\n",
        "x, y, z = cp.Variable(), cp.Variable(), cp.Variable() \n",
        "constraints = \n",
        "# constraints = [x + z <= 1 + cp.geo_mean(x, y - cp.quad_over_lin(z, z)),\n",
        "#                x >= 0, y >= 0]\n",
        "obj = cp.Minimize((x - y + 2)**2)\n",
        "solve_and_print(obj, constraints)"
      ],
      "execution_count": 31,
      "outputs": [
        {
          "output_type": "error",
          "ename": "TypeError",
          "evalue": "ignored",
          "traceback": [
            "\u001b[0;31m---------------------------------------------------------------------------\u001b[0m",
            "\u001b[0;31mTypeError\u001b[0m                                 Traceback (most recent call last)",
            "\u001b[0;32m<ipython-input-31-5007012161af>\u001b[0m in \u001b[0;36m<module>\u001b[0;34m()\u001b[0m\n\u001b[1;32m      6\u001b[0m \u001b[0;34m\u001b[0m\u001b[0m\n\u001b[1;32m      7\u001b[0m \u001b[0mx\u001b[0m\u001b[0;34m,\u001b[0m \u001b[0my\u001b[0m\u001b[0;34m,\u001b[0m \u001b[0mz\u001b[0m \u001b[0;34m=\u001b[0m \u001b[0mcp\u001b[0m\u001b[0;34m.\u001b[0m\u001b[0mVariable\u001b[0m\u001b[0;34m(\u001b[0m\u001b[0;34m)\u001b[0m\u001b[0;34m,\u001b[0m \u001b[0mcp\u001b[0m\u001b[0;34m.\u001b[0m\u001b[0mVariable\u001b[0m\u001b[0;34m(\u001b[0m\u001b[0;34m)\u001b[0m\u001b[0;34m,\u001b[0m \u001b[0mcp\u001b[0m\u001b[0;34m.\u001b[0m\u001b[0mVariable\u001b[0m\u001b[0;34m(\u001b[0m\u001b[0;34m)\u001b[0m\u001b[0;34m\u001b[0m\u001b[0;34m\u001b[0m\u001b[0m\n\u001b[0;32m----> 8\u001b[0;31m constraints = [x + z <= 1 + cp.geo_mean(x, y - cp.quad_over_lin(z, z)),\n\u001b[0m\u001b[1;32m      9\u001b[0m                x >= 0, y >= 0]\n\u001b[1;32m     10\u001b[0m \u001b[0mobj\u001b[0m \u001b[0;34m=\u001b[0m \u001b[0mcp\u001b[0m\u001b[0;34m.\u001b[0m\u001b[0mMinimize\u001b[0m\u001b[0;34m(\u001b[0m\u001b[0;34m(\u001b[0m\u001b[0mx\u001b[0m \u001b[0;34m-\u001b[0m \u001b[0my\u001b[0m \u001b[0;34m+\u001b[0m \u001b[0;36m2\u001b[0m\u001b[0;34m)\u001b[0m\u001b[0;34m**\u001b[0m\u001b[0;36m2\u001b[0m\u001b[0;34m)\u001b[0m\u001b[0;34m\u001b[0m\u001b[0;34m\u001b[0m\u001b[0m\n",
            "\u001b[0;32m/usr/local/lib/python3.7/dist-packages/cvxpy/atoms/geo_mean.py\u001b[0m in \u001b[0;36m__init__\u001b[0;34m(self, x, p, max_denom)\u001b[0m\n\u001b[1;32m    208\u001b[0m         \u001b[0mself\u001b[0m\u001b[0;34m.\u001b[0m\u001b[0mp\u001b[0m \u001b[0;34m=\u001b[0m \u001b[0mp\u001b[0m\u001b[0;34m\u001b[0m\u001b[0;34m\u001b[0m\u001b[0m\n\u001b[1;32m    209\u001b[0m \u001b[0;34m\u001b[0m\u001b[0m\n\u001b[0;32m--> 210\u001b[0;31m         \u001b[0;32mif\u001b[0m \u001b[0mlen\u001b[0m\u001b[0;34m(\u001b[0m\u001b[0mp\u001b[0m\u001b[0;34m)\u001b[0m \u001b[0;34m!=\u001b[0m \u001b[0mn\u001b[0m\u001b[0;34m:\u001b[0m\u001b[0;34m\u001b[0m\u001b[0;34m\u001b[0m\u001b[0m\n\u001b[0m\u001b[1;32m    211\u001b[0m             \u001b[0;32mraise\u001b[0m \u001b[0mValueError\u001b[0m\u001b[0;34m(\u001b[0m\u001b[0;34m'x and p must have the same number of elements.'\u001b[0m\u001b[0;34m)\u001b[0m\u001b[0;34m\u001b[0m\u001b[0;34m\u001b[0m\u001b[0m\n\u001b[1;32m    212\u001b[0m \u001b[0;34m\u001b[0m\u001b[0m\n",
            "\u001b[0;31mTypeError\u001b[0m: object of type 'AddExpression' has no len()"
          ]
        }
      ]
    },
    {
      "cell_type": "code",
      "metadata": {
        "id": "F5m4rUc4xAet"
      },
      "source": [
        "!apt-get install texlive texlive-xetex texlive-latex-extra pandoc\n",
        "!pip install pypandoc"
      ],
      "execution_count": null,
      "outputs": []
    },
    {
      "cell_type": "code",
      "metadata": {
        "colab": {
          "base_uri": "https://localhost:8080/"
        },
        "id": "5_5xoQPJxdgC",
        "outputId": "2ce90b9a-3bc2-4ed2-bfe9-14c921ea50c1"
      },
      "source": [
        "from google.colab import drive\n",
        "drive.mount('/content/drive')"
      ],
      "execution_count": 45,
      "outputs": [
        {
          "output_type": "stream",
          "text": [
            "Mounted at /content/drive\n"
          ],
          "name": "stdout"
        }
      ]
    },
    {
      "cell_type": "code",
      "metadata": {
        "colab": {
          "base_uri": "https://localhost:8080/"
        },
        "id": "GEP3MwBuxqKT",
        "outputId": "803d1ed6-1d64-4519-9bc7-d1009a339709"
      },
      "source": [
        "!cp drive/My Drive/ESE605/a3.3.ipynb ./"
      ],
      "execution_count": 46,
      "outputs": [
        {
          "output_type": "stream",
          "text": [
            "cp: cannot stat 'drive/My': No such file or directory\n",
            "cp: cannot stat 'Drive/ESE605/a3.3.ipynb': No such file or directory\n"
          ],
          "name": "stdout"
        }
      ]
    },
    {
      "cell_type": "code",
      "metadata": {
        "id": "f11ipbABytE5"
      },
      "source": [
        "!jupyter nbconvert --execute --to pdf a3.3.ipynb"
      ],
      "execution_count": null,
      "outputs": []
    }
  ]
}